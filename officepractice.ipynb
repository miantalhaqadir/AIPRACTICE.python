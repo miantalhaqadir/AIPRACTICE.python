{
 "cells": [
  {
   "cell_type": "code",
   "execution_count": null,
   "id": "4fa8be03",
   "metadata": {},
   "outputs": [
    {
     "name": "stdout",
     "output_type": "stream",
     "text": [
      "Twinkle, twinkle, little star, \n",
      "\tHow I wonder what you are! \n",
      "\t\tUp above the world so high, \n",
      "\t\tLike a diamond in the sky. \n",
      "Twinkle, twinkle, little star, \n",
      "\tHow I wonder what you are!\n"
     ]
    }
   ],
   "source": [
    "#Question no 1 Write a Python program to print the following string in a specific format (see the output).\n",
    "\n",
    "\n",
    "print(\"Twinkle, twinkle, little star, \\n\\tHow I wonder what you are! \\n\\t\\tUp above the world so high, \\n\\t\\tLike a diamond in the sky. \\nTwinkle, twinkle, little star, \\n\\tHow I wonder what you are!\")\n"
   ]
  },
  {
   "cell_type": "code",
   "execution_count": null,
   "id": "66cbc20b",
   "metadata": {},
   "outputs": [
    {
     "name": "stdout",
     "output_type": "stream",
     "text": [
      "3.13.5 (tags/v3.13.5:6cb20a2, Jun 11 2025, 16:15:46) [MSC v.1943 64 bit (AMD64)]\n"
     ]
    }
   ],
   "source": [
    "#Question no 2 Write a Python program to find out what version of Python you are using.\n",
    "\n",
    "\n",
    "import sys\n",
    "print(sys.version)"
   ]
  },
  {
   "cell_type": "code",
   "execution_count": 12,
   "id": "0b3408b2",
   "metadata": {},
   "outputs": [
    {
     "name": "stdout",
     "output_type": "stream",
     "text": [
      "current date and time is:\n",
      "03-08-2025 22:08:06\n"
     ]
    }
   ],
   "source": [
    " #Question no 3 Write a Python program to display the current date and time.\n",
    "\n",
    "\n",
    "import datetime\n",
    "now= datetime.datetime.now()\n",
    "print(\"current date and time is:\")\n",
    "print(now.strftime(\"%d-%m-%Y %H:%M:%S\"))\n"
   ]
  },
  {
   "cell_type": "code",
   "execution_count": 10,
   "id": "5c828d8e",
   "metadata": {},
   "outputs": [
    {
     "name": "stdout",
     "output_type": "stream",
     "text": [
      "The area of the circle with radius 20.0 is: 1256.6370614359173\n"
     ]
    }
   ],
   "source": [
    "#Question no 4 Write a Python program that calculates the area of a circle based on the radius entered by the user.\n",
    "#r=1.1 area = 3.8013271108436504\n",
    "\n",
    "\n",
    "from math import pi\n",
    "r = float(input(\"Input the radius of the circle : \"))\n",
    "area = pi * r ** 2\n",
    "print(\"The area of the circle with radius \" + str(r) + \" is: \" + str(area))\n"
   ]
  },
  {
   "cell_type": "code",
   "execution_count": 2,
   "id": "27bab6da",
   "metadata": {},
   "outputs": [
    {
     "name": "stdout",
     "output_type": "stream",
     "text": [
      "hello qadir talha\n"
     ]
    }
   ],
   "source": [
    "# Question no 4 Write a Python program that accepts the user's first and last name and prints them in reverse order with a space between them.\n",
    " \n",
    "\n",
    "firstname=input(\"enter your first name :\")\n",
    "lastname=input(\"enter you last name :\")\n",
    "print(\"hello\",lastname+\" \"+ firstname)\n"
   ]
  },
  {
   "cell_type": "code",
   "execution_count": 29,
   "id": "608769c0",
   "metadata": {},
   "outputs": [
    {
     "name": "stdout",
     "output_type": "stream",
     "text": [
      "['2345']\n",
      "['2', '3', '4', '5', '6'] ('2', '3', '4', '5', '6')\n"
     ]
    }
   ],
   "source": [
    "# Question no 6 Write a Python program that accepts a sequence of comma-separated numbers from the user and generates a list and a tuple of those numbers.\n",
    "\n",
    "number=input(\"enter some comma seperated values:\")\n",
    "# number=\"2,3,4,5,6\"\n",
    "print(number.split(\",\"))\n",
    "list=[\"2\",\"3\",\"4\",\"5\",\"6\"]\n",
    "tuple=(\"2\",\"3\",\"4\",\"5\",\"6\")\n",
    "print(list,tuple)\n"
   ]
  },
  {
   "cell_type": "code",
   "execution_count": 16,
   "id": "d09dc144",
   "metadata": {},
   "outputs": [
    {
     "name": "stdout",
     "output_type": "stream",
     "text": [
      "The extension of the file is : 'laravel'\n"
     ]
    }
   ],
   "source": [
    "# Question no 7 Write a Python program that accepts a filename from the user and prints the extension of the file.\n",
    "\n",
    "filename = input(\"please enter  the Filename: \")\n",
    "f_extns = filename.split(\".\")\n",
    "print(\"The extension of the file is : \" + repr(f_extns[-1]))\n"
   ]
  },
  {
   "cell_type": "code",
   "execution_count": null,
   "id": "9db172fb",
   "metadata": {},
   "outputs": [
    {
     "name": "stdout",
     "output_type": "stream",
     "text": [
      "Red\n",
      "Black\n",
      "4\n"
     ]
    }
   ],
   "source": [
    "# QUestion no 8 Write a Python program to display the first and last colors from the following list.\n",
    "\n",
    "color_list = [\"Red\",\"Green\",\"White\" ,\"Black\"]\n",
    "print(color_list[0])\n",
    "print(color_list[-1])"
   ]
  },
  {
   "cell_type": "code",
   "execution_count": 57,
   "id": "263235cb",
   "metadata": {},
   "outputs": [
    {
     "name": "stdout",
     "output_type": "stream",
     "text": [
      "3\n",
      "0\n",
      "red\n",
      "1\n",
      "green\n",
      "2\n",
      "blue\n"
     ]
    }
   ],
   "source": [
    "color_name=(\"red\",\"green\",\"blue\")\n",
    "lenghjt=len(color_name)\n",
    "# list=len([1])\n",
    "print(lenghjt)\n",
    "for x in range(lenghjt):\n",
    "    print(x)\n",
    "    print(color_name[x])\n",
    "\n"
   ]
  },
  {
   "cell_type": "code",
   "execution_count": 60,
   "id": "1c3e198c",
   "metadata": {},
   "outputs": [
    {
     "name": "stdout",
     "output_type": "stream",
     "text": [
      "5\n",
      "0\n",
      "red\n",
      "1\n",
      "green\n",
      "2\n",
      "blue\n",
      "3\n",
      "magenda\n",
      "4\n",
      "pink\n"
     ]
    }
   ],
   "source": [
    "color_name=(\"red\",\"green\",\"blue\",\"magenda\",\"pink\")\n",
    "length=len(color_name)\n",
    "print(length)\n",
    "for x in range(length):\n",
    "    print(x)\n",
    "    print(color_name[x])"
   ]
  },
  {
   "cell_type": "code",
   "execution_count": 75,
   "id": "fbbd9783",
   "metadata": {},
   "outputs": [
    {
     "name": "stdout",
     "output_type": "stream",
     "text": [
      "the examination will be starting form : 1 / 1 / 2019\n"
     ]
    }
   ],
   "source": [
    "# Question no 9 Write a Python program to display the examination schedule. (extract the date from exam_st_date).\n",
    "\n",
    "exam_start_date=(1,1,2019)\n",
    "\n",
    "print(\"the examination will be starting form : %i / %i / %i\" % exam_start_date)"
   ]
  },
  {
   "cell_type": "code",
   "execution_count": 70,
   "id": "9e160113",
   "metadata": {},
   "outputs": [
    {
     "name": "stdout",
     "output_type": "stream",
     "text": [
      "Hello, Talha!\n"
     ]
    }
   ],
   "source": [
    "name = \"Talha\"\n",
    "print(\"Hello, %s!\" % name)\n"
   ]
  },
  {
   "cell_type": "code",
   "execution_count": 72,
   "id": "2e5f7519",
   "metadata": {},
   "outputs": [
    {
     "name": "stdout",
     "output_type": "stream",
     "text": [
      "mian talha is a very good and charming boy \n"
     ]
    }
   ],
   "source": [
    "sentence= \"%s %s is a very good and charming boy \"\n",
    "print(sentence % (\"mian\",\"talha\"))"
   ]
  },
  {
   "cell_type": "code",
   "execution_count": 82,
   "id": "4e448989",
   "metadata": {},
   "outputs": [
    {
     "name": "stdout",
     "output_type": "stream",
     "text": [
      "123\n"
     ]
    }
   ],
   "source": [
    "# Question no 10 Write a Python program that accepts an integer (n) and computes the value of n+nn+nnn.\n",
    "\n",
    "a = int(input(\"Input any number: \"))\n",
    "\n",
    "n1 = int(\"%s\" % a)          \n",
    "n2 = int(\"%s%s\" % (a, a))   \n",
    "n3 = int(\"%s%s%s\" % (a, a, a))\n",
    "\n",
    "print(n1 + n2 + n3)\n"
   ]
  },
  {
   "cell_type": "code",
   "execution_count": null,
   "id": "e319edce",
   "metadata": {},
   "outputs": [
    {
     "name": "stdout",
     "output_type": "stream",
     "text": [
      "True\n",
      "6\n",
      "5\n",
      "('3', '2', '4')\n",
      "5\n",
      "2\n",
      "o\n",
      "True\n"
     ]
    }
   ],
   "source": [
    "# Question no 11 Write a Python program to print the documents (syntax, description etc.) of Python built-in function(s).\n",
    "\n",
    "number=(\"3\",\"2\",\"4\",\"6\",\"5\")\n",
    "x=sorted(number)\n",
    "x=all(number) #print all the number present in the list \n",
    "print(x)\n",
    "x=max(number) #print the highest number in the list\n",
    "print(x)\n",
    "x=len(number) # print the length of the list \n",
    "print(x)\n",
    "x=number[0:3] #print the index number of the list \n",
    "print(x)\n",
    "x=number[-1] # print the negative index number \n",
    "print(x)\n",
    "x = abs(2)   # print the absolute value of the function \n",
    "print(x)\n",
    "x=chr(111) #Get the character that represents the unicode \n",
    "print(x)\n",
    "x=any(number) #print the any of the item in the list is true\n",
    "print(x)"
   ]
  },
  {
   "cell_type": "code",
   "execution_count": 123,
   "id": "2bf4edd3",
   "metadata": {},
   "outputs": [
    {
     "name": "stdout",
     "output_type": "stream",
     "text": [
      "    October 1999\n",
      "Mo Tu We Th Fr Sa Su\n",
      "             1  2  3\n",
      " 4  5  6  7  8  9 10\n",
      "11 12 13 14 15 16 17\n",
      "18 19 20 21 22 23 24\n",
      "25 26 27 28 29 30 31\n",
      "\n"
     ]
    }
   ],
   "source": [
    "# Question no 12 Write a Python program that prints the calendar for a given month and year.\n",
    "import calendar\n",
    "year = int(input(\"Enter year: \"))\n",
    "month = int(input(\"Enter month: \"))\n",
    "print(calendar.month(year, month))\n",
    "\n",
    " "
   ]
  },
  {
   "cell_type": "code",
   "execution_count": null,
   "id": "207c2bd0",
   "metadata": {},
   "outputs": [
    {
     "name": "stdout",
     "output_type": "stream",
     "text": [
      "a string that you \"don't\" have to escape\n",
      "This\n",
      "is a ....... multi-line\n",
      "heredoc string ........>example\n"
     ]
    }
   ],
   "source": [
    "#Question no 13 Write a Python program to print the following 'here document'.\n",
    "print('''a string that you \"don't\" have to escape\n",
    "This\n",
    "is a ....... multi-line\n",
    "heredoc string ........>example''' ) #triple quote is use for multi-line string and to print the text as it is without any escape character "
   ]
  },
  {
   "cell_type": "code",
   "execution_count": 131,
   "id": "ae61a1e8",
   "metadata": {},
   "outputs": [
    {
     "name": "stdout",
     "output_type": "stream",
     "text": [
      "hello\n",
      "world\n"
     ]
    }
   ],
   "source": [
    "print('''hello\n",
    "world''')"
   ]
  },
  {
   "cell_type": "code",
   "execution_count": 134,
   "id": "3fc2a1e4",
   "metadata": {},
   "outputs": [
    {
     "name": "stdout",
     "output_type": "stream",
     "text": [
      "731 days, 0:00:00\n"
     ]
    }
   ],
   "source": [
    "#Question no 14 Write a Python program to calculate the number of days between two dates.\n",
    "from datetime import datetime\n",
    "date1 =input(\"Enter the first date (DD-MM-YYYY): \")\n",
    "date2=input(\"Enter the second date (DD-MM-YYYY): \")\n",
    "delta = datetime.strptime(date2, \"%d-%m-%Y\") - datetime.strptime(date1, \"%d-%m-%Y\")\n",
    "print(delta)\n"
   ]
  },
  {
   "cell_type": "code",
   "execution_count": null,
   "id": "83b51369",
   "metadata": {},
   "outputs": [
    {
     "name": "stdout",
     "output_type": "stream",
     "text": [
      "The volume of the sphere with radius 6 is: 904.7786842338603\n"
     ]
    }
   ],
   "source": [
    "#Question no 15 Write a Python program to get the volume of a sphere with radius six.\n",
    "import math\n",
    "radius = 6\n",
    "volume = (4/3) * math.pi * radius ** 3 #write the formula for volume of sphere\n",
    "print(\"The volume of the sphere with radius\", radius, \"is:\", volume)"
   ]
  },
  {
   "cell_type": "code",
   "execution_count": null,
   "id": "3652c5e7",
   "metadata": {},
   "outputs": [
    {
     "name": "stdout",
     "output_type": "stream",
     "text": [
      "The difference is: 7\n",
      "7\n"
     ]
    }
   ],
   "source": [
    "#Question no 16 Write a Python program to calculate the difference between a given number and 17. If the number is greater than 17, return twice the absolute difference.\n",
    "number = int(input(\"Enter a number: \")) #ask the use to enter a number\n",
    "if number > 17:  #applied the if statemnt to check if the number is greater than 17\n",
    "    difference = (number - 17) * 2 #returning twice the absolute difference\n",
    "else:\n",
    "    difference = 17 - number  #if the number is less than 17, return the difference\n",
    "print(\"The difference is:\", difference)\n",
    "print(difference)"
   ]
  },
  {
   "cell_type": "code",
   "execution_count": 150,
   "id": "e1530602",
   "metadata": {},
   "outputs": [
    {
     "name": "stdout",
     "output_type": "stream",
     "text": [
      "the difference is  7\n"
     ]
    }
   ],
   "source": [
    "number=int (input(\"enter a number:\"))\n",
    "if number > 17:\n",
    "    print (\"the number is greater than 17\")\n",
    "    difference=(number-17) * 2 \n",
    "else:\n",
    "    difference = 17 - number\n",
    "    print(\"the difference is \",difference )"
   ]
  },
  {
   "cell_type": "code",
   "execution_count": null,
   "id": "27c7a5ea",
   "metadata": {},
   "outputs": [
    {
     "name": "stdout",
     "output_type": "stream",
     "text": [
      "the number is not within 100 of 1000 or 2000\n"
     ]
    }
   ],
   "source": [
    "#Question no 17 Write a Python program to test whether a number is within 100 of 1000 or 2000.                     issue in this question \n",
    "number= int (input(\"enter the number \"))\n",
    "if (abs(1000 - number) <=100) or (abs(2000 - number) <= 100):\n",
    "    print(\"the number is within 100 of 1000 or 2000\")\n",
    "else:\n",
    "     print(\"the number is not within 100 of 1000 or 2000\")\n",
    "\n"
   ]
  },
  {
   "cell_type": "code",
   "execution_count": 5,
   "id": "a76df97c",
   "metadata": {},
   "outputs": [
    {
     "name": "stdout",
     "output_type": "stream",
     "text": [
      "6\n",
      "27\n"
     ]
    }
   ],
   "source": [
    "#Question no 18  Write a Python program to calculate the sum of three given numbers. If the values are equal, return three times their sum\n",
    "def sum_thrice(x, y, z):\n",
    "    # Calculate the sum of x, y, and z\n",
    "    sum = x + y + z\n",
    "\n",
    "    if x == y == z:      # Check if x, y, and z are all equal (all three numbers are the same)\n",
    "\n",
    "        # If they are equal, triple the sum\n",
    "        sum = sum * 3\n",
    "\n",
    "    # Return the final sum\n",
    "    return sum\n",
    "\n",
    "# Call the \"sum_thrice\" function with the arguments (1, 2, 3) and print the result\n",
    "print(sum_thrice(1, 2, 3))\n",
    "\n",
    "# Call the \"sum_thrice\" function with the arguments (3, 3, 3) and print the result\n",
    "print(sum_thrice(3, 3, 3))\n",
    "\n",
    "    "
   ]
  },
  {
   "cell_type": "code",
   "execution_count": 11,
   "id": "ee4b53d7",
   "metadata": {},
   "outputs": [
    {
     "name": "stdout",
     "output_type": "stream",
     "text": [
      "Result: Iseasy\n"
     ]
    }
   ],
   "source": [
    "# Question no 19 Write a Python program to get a newly-generated string from a given string where \"Is\" has been added to the front.\n",
    "#  Return the string unchanged if the given string already begins with \"Is\".\n",
    " \n",
    "\n",
    "def add_is_to_string(text): #here we want to add the \"Is\" to the front of the string\n",
    "    if text.startswith(\"Is\"): #and if the string already starts with \"Is\", we return the string unchanged\n",
    "        return text\n",
    "    else: #but if the string does not start with \"is\", we add is to the fron of the sting \n",
    "        return \"Is\" + text\n",
    "\n",
    "# Ask user\n",
    "user_input = input(\"Enter any word or sentence: \")\n",
    "result = add_is_to_string(user_input)\n",
    "print(\"Result:\", result)\n",
    "\n",
    " \n",
    "\n",
    "\n"
   ]
  },
  {
   "cell_type": "code",
   "execution_count": 14,
   "id": "a275b663",
   "metadata": {},
   "outputs": [
    {
     "name": "stdout",
     "output_type": "stream",
     "text": [
      "is1\n"
     ]
    }
   ],
   "source": [
    "def add_is_to_string(text):\n",
    "    if text.startswith(\"is\"):\n",
    "        return text\n",
    "    else:\n",
    "        return \"is\" + text\n",
    "\n",
    "user_input = input(\"enter a string :\")\n",
    "result = add_is_to_string(user_input)\n",
    "print(result)"
   ]
  },
  {
   "cell_type": "code",
   "execution_count": 29,
   "id": "05b3eded",
   "metadata": {},
   "outputs": [
    {
     "name": "stdout",
     "output_type": "stream",
     "text": [
      "talhatalhatalhatalhatalhatalhatalhatalhatalhatalhatalhatalhatalhatalhatalhatalhatalhatalhatalhatalha\n",
      ".python.python.python\n"
     ]
    }
   ],
   "source": [
    "#Question no 20 Write a Python program that returns a string that is n (non-negative integer) copies of a given string.\n",
    "\n",
    "def larger_string(text, n):      # Initialize an empty string variable named \"result\"\n",
    "\n",
    "    result = \"\"\n",
    "\n",
    "    for i in range(n):       # Use a for loop to repeat the \"text\" \"n\" times and concatenate it to the \"result\"\n",
    "\n",
    "        result = result + text\n",
    "\n",
    "    return result               \n",
    "\n",
    "\n",
    "print(larger_string('talha', 20))   # Call the \"larger_string\" function with the arguments 'abc' and 2, then print the result\n",
    "\n",
    "\n",
    "# Call the \"larger_string\" function with the arguments '.py' and 3, then print the result\n",
    "print(larger_string('.python', 3))\n"
   ]
  },
  {
   "cell_type": "code",
   "execution_count": 32,
   "id": "9b19eebd",
   "metadata": {},
   "outputs": [
    {
     "name": "stdout",
     "output_type": "stream",
     "text": [
      "the number is odd\n"
     ]
    }
   ],
   "source": [
    "# QUestion no 21 Write a Python program that determines whether a given number (accepted from the user) is even or odd, and prints an appropriate message to the user.\n",
    " \n",
    "number =int(input(\"enter a number: \"))\n",
    "if number % 2==0:\n",
    "    print(\"the number is even \")\n",
    "else:\n",
    "    print(\"the number is odd\")"
   ]
  },
  {
   "cell_type": "code",
   "execution_count": 91,
   "id": "1b92da70",
   "metadata": {},
   "outputs": [
    {
     "ename": "NameError",
     "evalue": "name 'usmantrader' is not defined",
     "output_type": "error",
     "traceback": [
      "\u001b[31m---------------------------------------------------------------------------\u001b[39m",
      "\u001b[31mNameError\u001b[39m                                 Traceback (most recent call last)",
      "\u001b[36mCell\u001b[39m\u001b[36m \u001b[39m\u001b[32mIn[91]\u001b[39m\u001b[32m, line 8\u001b[39m\n\u001b[32m      4\u001b[39m     list_=file.read()\n\u001b[32m      5\u001b[39m     \u001b[38;5;28;01mreturn\u001b[39;00m list_\n\u001b[32m----> \u001b[39m\u001b[32m8\u001b[39m pre_process=\u001b[43mload_data\u001b[49m\u001b[43m(\u001b[49m\u001b[33;43m'\u001b[39;49m\u001b[33;43mc:/Users/LChovo/OneDrive/Desktop/AI Practice/\u001b[39;49m\u001b[33;43m'\u001b[39;49m\u001b[43m,\u001b[49m\u001b[33;43m'\u001b[39;49m\u001b[33;43mtest.xlsx\u001b[39;49m\u001b[33;43m'\u001b[39;49m\u001b[43m)\u001b[49m\n",
      "\u001b[36mCell\u001b[39m\u001b[36m \u001b[39m\u001b[32mIn[91]\u001b[39m\u001b[32m, line 3\u001b[39m, in \u001b[36mload_data\u001b[39m\u001b[34m(path, file_name)\u001b[39m\n\u001b[32m      2\u001b[39m \u001b[38;5;28;01mdef\u001b[39;00m\u001b[38;5;250m \u001b[39m\u001b[34mload_data\u001b[39m(path,file_name):\n\u001b[32m----> \u001b[39m\u001b[32m3\u001b[39m     file=\u001b[43musmantrader\u001b[49m.file_load(path,file_name)\n\u001b[32m      4\u001b[39m     list_=file.read()\n\u001b[32m      5\u001b[39m     \u001b[38;5;28;01mreturn\u001b[39;00m list_\n",
      "\u001b[31mNameError\u001b[39m: name 'usmantrader' is not defined"
     ]
    }
   ],
   "source": [
    "#Question no 22 Write a Python program to count the number 4 in a given list.\n",
    "def load_data(path,file_name):\n",
    "    file=pc.file_load(path,file_name)\n",
    "    list_=file.read()\n",
    "    return list_\n",
    "\n",
    "\n",
    "pre_process=load_data('c:/Users/LChovo/OneDrive/Desktop/AI Practice/','test.xlsx')\n",
    "\n",
    "\n"
   ]
  },
  {
   "cell_type": "code",
   "execution_count": 36,
   "id": "76c20d5c",
   "metadata": {},
   "outputs": [
    {
     "ename": "NameError",
     "evalue": "name 'os' is not defined",
     "output_type": "error",
     "traceback": [
      "\u001b[31m---------------------------------------------------------------------------\u001b[39m",
      "\u001b[31mNameError\u001b[39m                                 Traceback (most recent call last)",
      "\u001b[36mCell\u001b[39m\u001b[36m \u001b[39m\u001b[32mIn[36]\u001b[39m\u001b[32m, line 5\u001b[39m\n\u001b[32m      3\u001b[39m      \u001b[38;5;28mlist\u001b[39m=file.read()\n\u001b[32m      4\u001b[39m      \u001b[38;5;28;01mreturn\u001b[39;00m \u001b[38;5;28mlist\u001b[39m\n\u001b[32m----> \u001b[39m\u001b[32m5\u001b[39m processed_data=\u001b[43mload_data\u001b[49m\u001b[43m(\u001b[49m\u001b[33;43m'\u001b[39;49m\u001b[33;43mc:/Users/LChovo/OneDrive/Desktop/talhapythonclass/\u001b[39;49m\u001b[33;43m'\u001b[39;49m\u001b[43m,\u001b[49m\u001b[33;43m'\u001b[39;49m\u001b[33;43mtest.xlsx\u001b[39;49m\u001b[33;43m'\u001b[39;49m\u001b[43m)\u001b[49m\n",
      "\u001b[36mCell\u001b[39m\u001b[36m \u001b[39m\u001b[32mIn[36]\u001b[39m\u001b[32m, line 2\u001b[39m, in \u001b[36mload_data\u001b[39m\u001b[34m(path, file_name)\u001b[39m\n\u001b[32m      1\u001b[39m \u001b[38;5;28;01mdef\u001b[39;00m\u001b[38;5;250m \u001b[39m\u001b[34mload_data\u001b[39m(path, file_name):\n\u001b[32m----> \u001b[39m\u001b[32m2\u001b[39m      file=\u001b[43mos\u001b[49m.file_load(path,file_name)\n\u001b[32m      3\u001b[39m      \u001b[38;5;28mlist\u001b[39m=file.read()\n\u001b[32m      4\u001b[39m      \u001b[38;5;28;01mreturn\u001b[39;00m \u001b[38;5;28mlist\u001b[39m\n",
      "\u001b[31mNameError\u001b[39m: name 'os' is not defined"
     ]
    }
   ],
   "source": [
    "def load_data(path, file_name):\n",
    "     file=os.file_load(path,file_name)\n",
    "     list=file.read()\n",
    "     return list\n",
    "processed_data=load_data('c:/Users/LChovo/OneDrive/Desktop/talhapythonclass/','test.xlsx')"
   ]
  },
  {
   "cell_type": "code",
   "execution_count": 95,
   "id": "ccf0879f",
   "metadata": {},
   "outputs": [
    {
     "name": "stdout",
     "output_type": "stream",
     "text": [
      "The count of number 4 in the list is: 1\n"
     ]
    }
   ],
   "source": [
    "#Question no 22 Write a Python program to count the number 4 in a given list.\n",
    "def list_count_4(nums):\n",
    "    count=0\n",
    "    for num in nums:\n",
    "        if num==4:\n",
    "            count+=1\n",
    "            return count\n",
    "user_input = input(\"Enter a list of numbers separated by commas: \")\n",
    "nums = [int(x) for x in user_input.split(',')]\n",
    "result = list_count_4(nums)\n",
    "print(\"The count of number 4 in the list is:\", result)\n"
   ]
  },
  {
   "cell_type": "code",
   "execution_count": null,
   "id": "694da05f",
   "metadata": {},
   "outputs": [],
   "source": [
    "#Question no 23 Write a Python program to get n (non-negative integer) copies of the first 2 characters of a given string.\n",
    "#  Return n copies of the whole string if the length is less than 2.\n",
    "def substring_copy(text, n):\n",
    "  # Set the initial value of flen (substring length) to 2.\n",
    "  flen = 2\n",
    "\n",
    "  # Check if flen is greater than the length of the input text.\n",
    "  if flen > len(text):\n",
    "    # If flen is greater, set it to the length of the text to avoid going out of bounds.\n",
    "    flen = len(text)\n",
    "\n",
    "  # Extract a substring of length flen from the beginning of the text.\n",
    "  substr = text[:flen]\n",
    "\n",
    "  # Initialize an empty string result to store the concatenated substrings.\n",
    "  result = \"\"\n",
    "\n",
    "  # Iterate n times to concatenate the substring to the result.\n",
    "  for i in range(n):\n",
    "    result = result + substr\n",
    "\n",
    "  # Return the final result after concatenating substrings.\n",
    "  return result\n",
    "\n",
    "# Call the substring_copy function with two different inputs and print the results.\n",
    "print(substring_copy('abcdef', 2))  # Output: \"abab\" (substring \"ab\" repeated 2 times)\n",
    "print(substring_copy('p', 3))  # Output: \"pp\" (substring \"p\" repeated 3 times)\n"
   ]
  },
  {
   "cell_type": "code",
   "execution_count": 4,
   "id": "e78551ea",
   "metadata": {},
   "outputs": [
    {
     "data": {
      "text/plain": [
       "'talha qadir'"
      ]
     },
     "execution_count": 4,
     "metadata": {},
     "output_type": "execute_result"
    }
   ],
   "source": [
    "def my_function(fname,lname):\n",
    "    # print(\"miantalha\",\"qadir\")\n",
    "    return fname + \" \" + lname\n",
    "my_function(fname=\"talha\",lname=\"qadir\")"
   ]
  },
  {
   "cell_type": "code",
   "execution_count": null,
   "id": "a57dd68e",
   "metadata": {},
   "outputs": [],
   "source": []
  },
  {
   "cell_type": "code",
   "execution_count": null,
   "id": "a2dd40eb",
   "metadata": {},
   "outputs": [],
   "source": []
  }
 ],
 "metadata": {
  "kernelspec": {
   "display_name": "Python 3",
   "language": "python",
   "name": "python3"
  },
  "language_info": {
   "codemirror_mode": {
    "name": "ipython",
    "version": 3
   },
   "file_extension": ".py",
   "mimetype": "text/x-python",
   "name": "python",
   "nbconvert_exporter": "python",
   "pygments_lexer": "ipython3",
   "version": "3.13.5"
  }
 },
 "nbformat": 4,
 "nbformat_minor": 5
}
