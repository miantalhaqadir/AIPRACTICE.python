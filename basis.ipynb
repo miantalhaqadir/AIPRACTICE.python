{
 "cells": [
  {
   "cell_type": "code",
   "execution_count": null,
   "id": "b1408457",
   "metadata": {},
   "outputs": [],
   "source": [
    "# comment \n",
    "x = 10 \n",
    "y  = 'string'\n",
    "flo  = 1.0\n",
    "a = str()\n",
    "b = int()\n",
    "c = float()\n",
    "d = type()\n",
    "\n",
    "# case senstive\n",
    "# camel case \n",
    "# pacal case \n",
    "# snake case \n",
    "# multiple values \n",
    "# unpacking a collection\n",
    "# one value to multiple variables\n",
    "# local variable , globle variable \n",
    "# list\n",
    "# slicing\n",
    "#append extend insert\n",
    "#remove specified index \n",
    "#del \n",
    "#pop\n",
    "#clear\n",
    "\n",
    "#"
   ]
  },
  {
   "cell_type": "code",
   "execution_count": 2,
   "id": "093eaa36",
   "metadata": {},
   "outputs": [
    {
     "name": "stdout",
     "output_type": "stream",
     "text": [
      "Twinkle, twinkle, little star, \n",
      "\tHow I wonder what you are! \n",
      "\t\tUp above the world so high, \n",
      "\t\tLike a diamond in the sky. \n",
      "Twinkle, twinkle, little star, \n",
      "\tHow I wonder what you are!\n"
     ]
    }
   ],
   "source": [
    "print(\"Twinkle, twinkle, little star, \\n\\tHow I wonder what you are! \\n\\t\\tUp above the world so high, \\n\\t\\tLike a diamond in the sky. \\nTwinkle, twinkle, little star, \\n\\tHow I wonder what you are!\")\n"
   ]
  },
  {
   "cell_type": "code",
   "execution_count": 3,
   "id": "30009bac",
   "metadata": {},
   "outputs": [
    {
     "name": "stdout",
     "output_type": "stream",
     "text": [
      "3.13.5\n"
     ]
    }
   ],
   "source": [
    "import platform\n",
    "print(platform.python_version())\n"
   ]
  },
  {
   "cell_type": "code",
   "execution_count": null,
   "id": "a3f2d515",
   "metadata": {},
   "outputs": [],
   "source": [
    "gol = 12\n",
    "\n",
    "\n",
    "def myfun():\n",
    "    gol = 'green'\n",
    "    print(gol)\n",
    "\n",
    "\n",
    "print(gol)\n",
    "myfun()\n",
    "\n"
   ]
  },
  {
   "cell_type": "code",
   "execution_count": null,
   "id": "e843b00f",
   "metadata": {},
   "outputs": [],
   "source": [
    "theList = [1 ,3 ,4 ,5 ,6, 7]\n",
    "\n",
    "print(theList)\n",
    "\n",
    "theList = theList + theList\n",
    "\n",
    "print(theList)\n",
    "\n",
    "print(len(theList))\n",
    "print(theList[5])\n",
    "print(theList[-4:-6])"
   ]
  },
  {
   "cell_type": "code",
   "execution_count": null,
   "id": "4e5ff991",
   "metadata": {},
   "outputs": [],
   "source": [
    "x=100\n",
    "y= [\"helloworld!\"]\n",
    "\n",
    "print (\"hello world!\")\n",
    "\n",
    "\n"
   ]
  },
  {
   "cell_type": "code",
   "execution_count": null,
   "id": "f5c711bc",
   "metadata": {},
   "outputs": [],
   "source": [
    "x= (5)\n",
    "\n",
    "fruits = [\"apple\",\"banana\",\"kiwi\",\"mango\"]\n",
    "x,y,z,p = fruits\n",
    "print(x)\n",
    "print(y)\n",
    "print(z)\n",
    "print(p)\n"
   ]
  },
  {
   "cell_type": "code",
   "execution_count": null,
   "id": "d9c5e75c",
   "metadata": {},
   "outputs": [],
   "source": [
    "\n",
    "\n",
    "\n",
    "\n",
    "x = \"blue\"\n",
    "\n",
    "def myfun():\n",
    "    x = \"terabyte data is in the ssd\"\n",
    "    print(x)\n",
    "\n",
    "myfun()\n"
   ]
  },
  {
   "cell_type": "code",
   "execution_count": null,
   "id": "8310434a",
   "metadata": {},
   "outputs": [],
   "source": [
    "import random\n",
    "print(random.randrange(1,100))"
   ]
  },
  {
   "cell_type": "code",
   "execution_count": null,
   "id": "fce63c54",
   "metadata": {},
   "outputs": [],
   "source": [
    "x = int (3.9)\n",
    "print (x)"
   ]
  },
  {
   "cell_type": "code",
   "execution_count": null,
   "id": "38c91a60",
   "metadata": {},
   "outputs": [],
   "source": [
    "import random\n",
    "list(random ,choice(5, 101, 5))"
   ]
  },
  {
   "cell_type": "code",
   "execution_count": null,
   "id": "710b8e59",
   "metadata": {},
   "outputs": [],
   "source": [
    "a = (\"it's alright\")\n",
    "print(a)"
   ]
  },
  {
   "cell_type": "code",
   "execution_count": null,
   "id": "c6371073",
   "metadata": {},
   "outputs": [],
   "source": [
    "a = \"\"\"Lorem ipsum dolor sit amet,\n",
    "consectetur adipiscing elit,\n",
    "sed do eiusmod tempor incididunt\n",
    "ut labore et dolore magna aliqua.\"\"\"\n",
    "print (a)"
   ]
  },
  {
   "cell_type": "code",
   "execution_count": null,
   "id": "cce15506",
   "metadata": {},
   "outputs": [],
   "source": [
    "text  = \"   world is beautiful  \"\n",
    "\n",
    "'''print (name[0:1])\n",
    "print (len(name))\n",
    "print (name[1:3])\n",
    "print (name[-3:-1])\n",
    "print (name[:4])\n",
    "print(name[-5:-1])\n",
    "print (name.upper())\n",
    "print (name.upper())\n",
    "print(name.strip())\n",
    "print(name.replace(\" \", \"\"))\n",
    "print(name.replace(\"w\",\"z\"))\n",
    "print (name.replace (\"world\",\"awais\"))'''\n",
    "words =(text.split(\",\"))\n",
    "print(words)"
   ]
  },
  {
   "cell_type": "code",
   "execution_count": null,
   "id": "9e69bdcc",
   "metadata": {},
   "outputs": [],
   "source": [
    "a =  \"police\"\n",
    "b =  \"isvery \" \n",
    "c = \"dangerous\" \n",
    "d = a+b+c\n",
    "print (d)"
   ]
  },
  {
   "cell_type": "code",
   "execution_count": null,
   "id": "7451e16b",
   "metadata": {},
   "outputs": [],
   "source": [
    "a = 200\n",
    "b = 300\n",
    "\n",
    "if b > a:\n",
    "    print(\"b is greater than a\")\n",
    "else:\n",
    "    print(\"a is less than b\")"
   ]
  },
  {
   "cell_type": "code",
   "execution_count": null,
   "id": "7a9127ca",
   "metadata": {},
   "outputs": [],
   "source": [
    "a= 7\n",
    "b=9 \n",
    "c=a+b\n",
    "print(c)\n",
    "print(a>b)\n",
    "print(a==b)\n",
    "print(a*b==c)\n",
    "print(bool(a))"
   ]
  },
  {
   "cell_type": "code",
   "execution_count": null,
   "id": "3bdf7206",
   "metadata": {},
   "outputs": [],
   "source": [
    "a = (3 + 5)\n",
    "b = (6)\n",
    "print(a)\n",
    "print(b)\n",
    "print(a * b)\n",
    "print(a + b)\n",
    "\n",
    "if a > b:\n",
    "    print(\"you are great\")\n",
    "    print(100 + 5 * 3)\n"
   ]
  },
  {
   "cell_type": "code",
   "execution_count": null,
   "id": "f296798d",
   "metadata": {},
   "outputs": [],
   "source": [
    "thislist = [\"apple\",\"banana\",\"mango\",\"gauva\",\"kiwi\",\"mango\"]\n",
    "print(thislist)\n",
    "print(len(thislist))\n",
    "print(thislist[4])"
   ]
  },
  {
   "cell_type": "code",
   "execution_count": null,
   "id": "04c7ef11",
   "metadata": {},
   "outputs": [],
   "source": [
    "thislist={\"apple\",\"mango\",\"kiwi\",\"banana\"}\n",
    "print(type(thislist))\n"
   ]
  },
  {
   "cell_type": "code",
   "execution_count": null,
   "id": "5d930f40",
   "metadata": {},
   "outputs": [],
   "source": [
    "thislist = list((\"apple\", \"banana\", \"cherry\"))\n",
    "print(thislist)"
   ]
  },
  {
   "cell_type": "code",
   "execution_count": null,
   "id": "bf178474",
   "metadata": {},
   "outputs": [],
   "source": [
    "thislist = [\"apple\", \"banana\", \"cherry\"]\n",
    "if \"apple\" in thislist:\n",
    "  print(\"Yes, 'apple' is in the fruits list\")\n",
    "  thislist[2]=\"kya chaiye beta aur\"\n",
    "  print(thislist)\n"
   ]
  },
  {
   "cell_type": "code",
   "execution_count": null,
   "id": "ac90ff26",
   "metadata": {},
   "outputs": [],
   "source": []
  },
  {
   "cell_type": "code",
   "execution_count": null,
   "id": "44fa4446",
   "metadata": {},
   "outputs": [],
   "source": [
    "name=[\"paapi\",\"bonita\",\"magenda\"]\n",
    "name[2]=\"cherryblossom\"\n",
    "print(name)"
   ]
  },
  {
   "cell_type": "code",
   "execution_count": null,
   "id": "1f8fcae0",
   "metadata": {},
   "outputs": [],
   "source": [
    "thislist=[\"chachomiran\",\"chachoshehzad\",\"shifa\",\"areeba\",\"haadi\",\"chachiwaddanjogi\"]\n",
    "thislist[1:2]=[\"nana\",\"nani\",\"dadaabbu\"]\n",
    "print(thislist)"
   ]
  },
  {
   "cell_type": "code",
   "execution_count": null,
   "id": "df32189a",
   "metadata": {},
   "outputs": [],
   "source": [
    "thislist=[\"mango\",\"banan\",\"orange\",\"apple\"]\n",
    "thislist.insert(3,\"watermelon\")\n",
    "print(thislist)"
   ]
  },
  {
   "cell_type": "code",
   "execution_count": null,
   "id": "b3f6c31d",
   "metadata": {},
   "outputs": [],
   "source": [
    "thislist=[\"miantayyabqadir\",\"mianmateen\"]\n",
    "tropical=[\"nigga\",\"ishowspeed\",\"harshbeniwal\"]\n",
    "thislist.extend(tropical)\n",
    "thislist.insert(0,\"miantalhaqadir\")\n",
    "print(thislist)"
   ]
  },
  {
   "cell_type": "code",
   "execution_count": null,
   "id": "8fc01cfa",
   "metadata": {},
   "outputs": [],
   "source": [
    "thislist = [\"apple\", \"banana\", \"cherry\"]\n",
    "thistuple = (\"kiwi\", \"orange\")\n",
    "thislist.extend(thistuple)\n",
    "print(thislist)\n"
   ]
  },
  {
   "cell_type": "code",
   "execution_count": null,
   "id": "08bff189",
   "metadata": {},
   "outputs": [],
   "source": [
    "color= [\"grey\",\"blue\",\"white\",\"orange\"]\n",
    "for x in color:\n",
    "    print(x)"
   ]
  },
  {
   "cell_type": "code",
   "execution_count": null,
   "id": "05feceb4",
   "metadata": {},
   "outputs": [],
   "source": [
    "thislist=[\"50\",\"30\",\"1\",\"99\",\"0.1\"]\n",
    "thislist.sort()\n",
    "print(thislist)\n",
    "thislist.sort(reverse=True)\n",
    "print(thislist)"
   ]
  },
  {
   "cell_type": "code",
   "execution_count": null,
   "id": "001319ca",
   "metadata": {},
   "outputs": [],
   "source": [
    "thislist=[\"combo\",\"awais\",\"talha\",\"bukhari\"]\n",
    "mylist=list(thislist)\n",
    "thislist.copy()\n",
    "print(thislist)\n",
    "print(mylist)\n",
    "mylist=thislist[0:2]\n",
    "print(mylist)"
   ]
  },
  {
   "cell_type": "code",
   "execution_count": null,
   "id": "6491015a",
   "metadata": {},
   "outputs": [],
   "source": [
    "list1 = [\"a\", \"b\" , \"c\"]\n",
    "list2 = [1, 2, 3]\n",
    "\n",
    "list3=(list1+list2)\n",
    "print(list3)"
   ]
  },
  {
   "cell_type": "code",
   "execution_count": null,
   "id": "e56c9d23",
   "metadata": {},
   "outputs": [],
   "source": [
    "thislist = [\"apple\", \"banana\", \"cherry\", \"apple\", \"cherry\"]\n",
    "print(thislist)"
   ]
  },
  {
   "cell_type": "code",
   "execution_count": null,
   "id": "db2a7b3d",
   "metadata": {},
   "outputs": [],
   "source": [
    "name = \"deoxyrybonueclicacid\"\n",
    "tuple=tuple(name)\n",
    "print(name_tuple)"
   ]
  },
  {
   "cell_type": "code",
   "execution_count": null,
   "id": "6785d3ec",
   "metadata": {},
   "outputs": [],
   "source": [
    "x = (\"apple\", \"banana\", \"cherry\")\n",
    "y = list(x)\n",
    "y[1] = \"kiwi\"\n",
    "x = tuple(y)\n",
    "\n",
    "print(x)\n"
   ]
  },
  {
   "cell_type": "code",
   "execution_count": null,
   "id": "4d2c589e",
   "metadata": {},
   "outputs": [],
   "source": [
    "fruits = (\"apple\", \"banana\", \"cherry\")\n",
    "\n",
    "(green, yellow, red) = fruits\n",
    "\n",
    "\n",
    "print(green,yellow)\n",
    "print(fruits)\n",
    "print(red)\n"
   ]
  },
  {
   "cell_type": "code",
   "execution_count": null,
   "id": "fa2ed557",
   "metadata": {},
   "outputs": [],
   "source": [
    "fruits = (\"apple\", \"banana\", \"cherry\", \"strawberry\", \"raspberry\")\n",
    "\n",
    "(green, yellow, red,*blue) = fruits\n",
    "\n",
    "print(green)\n",
    "print(yellow)\n",
    "print(red)\n"
   ]
  },
  {
   "cell_type": "code",
   "execution_count": null,
   "id": "f3d0d7dc",
   "metadata": {},
   "outputs": [],
   "source": [
    "fruits = [\"apple\", \"banana\", \"cherry\", \"strawberry\", \"raspberry\"]\n",
    "fruits=[\"apple\",\"banana\",\"gauva\"]\n",
    "print(fruits)\n"
   ]
  },
  {
   "cell_type": "code",
   "execution_count": null,
   "id": "58eefecd",
   "metadata": {},
   "outputs": [],
   "source": [
    "my_tuple=(1,2,3,4,5,6,7,1)\n",
    "print(my_tuple.count(1))"
   ]
  },
  {
   "cell_type": "code",
   "execution_count": null,
   "id": "6cb497b7",
   "metadata": {},
   "outputs": [],
   "source": [
    "tuple=(1,2,3,4,5,6,6)\n",
    "print(tuple)\n",
    "n=tuple.count(1)\n",
    "print"
   ]
  },
  {
   "cell_type": "code",
   "execution_count": null,
   "id": "f86965fe",
   "metadata": {},
   "outputs": [],
   "source": [
    "thisset={\"cherry\",\"banana\",\"orange\"}\n",
    "print(thisset)\n",
    "sorted_list=sorted(thisset)"
   ]
  },
  {
   "cell_type": "code",
   "execution_count": null,
   "id": "d26a796b",
   "metadata": {},
   "outputs": [
    {
     "name": "stdout",
     "output_type": "stream",
     "text": [
      "{'false', 19, 'raju', 5.9}\n",
      "<class 'dict'>\n"
     ]
    }
   ],
   "source": [
    "info={\"raju\",19,'false',5.9}\n",
    "print(info)\n",
    "talha={}\n",
    "print(type(talha))"
   ]
  },
  {
   "cell_type": "code",
   "execution_count": 27,
   "id": "1d2fe66d",
   "metadata": {},
   "outputs": [
    {
     "name": "stdout",
     "output_type": "stream",
     "text": [
      "{2, 4, 6, 7, 8, 9, 10, 12, 13}\n",
      "{8}\n"
     ]
    }
   ],
   "source": [
    "s1={2,4,6,6,8,9,10}\n",
    "s2={2,4,6,7,9,10,12,13}\n",
    "print(s1.union(s2))\n",
    "#print(s1.union(s2)-(s1.intersection(s2)))\n",
    "\n",
    "#s3=(S1.symmetric_difference(s2))\n",
    "print(s1.difference(s2))"
   ]
  },
  {
   "cell_type": "code",
   "execution_count": 4,
   "id": "f51de662",
   "metadata": {},
   "outputs": [
    {
     "name": "stdout",
     "output_type": "stream",
     "text": [
      "{'apple', 'kiwi', 'mango', 'banana'}\n"
     ]
    }
   ],
   "source": [
    "thisset={\"apple\",\"kiwi\",\"banana\"}\n",
    "thisset.add(\"mango\")\n",
    "print(thisset)"
   ]
  },
  {
   "cell_type": "code",
   "execution_count": 5,
   "id": "879a4145",
   "metadata": {},
   "outputs": [
    {
     "name": "stdout",
     "output_type": "stream",
     "text": [
      "{'orange', 'banana', 'pineapple', 'pomegranate', 'kiwi', 'mango'}\n"
     ]
    }
   ],
   "source": [
    "thisset={\"mango\",\"banana\",\"kiwi\"}\n",
    "thisset1={\"pineapple\",\"orange\",\"pomegranate\"}\n",
    "thisset.update(thisset1)\n",
    "print(thisset)"
   ]
  },
  {
   "cell_type": "code",
   "execution_count": 11,
   "id": "f6f75912",
   "metadata": {},
   "outputs": [
    {
     "name": "stdout",
     "output_type": "stream",
     "text": [
      "{1, 2, 3, 'a', 'b', 'c'}\n"
     ]
    }
   ],
   "source": [
    "set1 = {\"a\", \"b\", \"c\"}\n",
    "set2 = {1, 2, 3}\n",
    "\n",
    "set3 = set2|(set1)\n",
    "print(set3)\n"
   ]
  },
  {
   "cell_type": "code",
   "execution_count": 12,
   "id": "e8c0111c",
   "metadata": {},
   "outputs": [
    {
     "name": "stdout",
     "output_type": "stream",
     "text": [
      "{'3', '40', '20', '30', '1', '4'}\n"
     ]
    }
   ],
   "source": [
    "thisset={\"1\",\"20\",\"3\",\"4\"}\n",
    "thislist=[\"20\",\"30\",\"40\"]\n",
    "z=thisset.union(thislist)\n",
    "print(z)"
   ]
  },
  {
   "cell_type": "code",
   "execution_count": 1,
   "id": "a34133e4",
   "metadata": {},
   "outputs": [
    {
     "name": "stdout",
     "output_type": "stream",
     "text": [
      "Collecting nltk\n",
      "  Downloading nltk-3.9.1-py3-none-any.whl.metadata (2.9 kB)\n",
      "Collecting click (from nltk)\n",
      "  Downloading click-8.2.1-py3-none-any.whl.metadata (2.5 kB)\n",
      "Collecting joblib (from nltk)\n",
      "  Downloading joblib-1.5.1-py3-none-any.whl.metadata (5.6 kB)\n",
      "Collecting regex>=2021.8.3 (from nltk)\n",
      "  Downloading regex-2025.7.34-cp313-cp313-win_amd64.whl.metadata (41 kB)\n",
      "Collecting tqdm (from nltk)\n",
      "  Downloading tqdm-4.67.1-py3-none-any.whl.metadata (57 kB)\n",
      "Requirement already satisfied: colorama in c:\\users\\lchovo\\appdata\\roaming\\python\\python313\\site-packages (from click->nltk) (0.4.6)\n",
      "Downloading nltk-3.9.1-py3-none-any.whl (1.5 MB)\n",
      "   ---------------------------------------- 0.0/1.5 MB ? eta -:--:--\n",
      "   ---------------------------------------- 0.0/1.5 MB ? eta -:--:--\n",
      "   ---------------------------------------- 0.0/1.5 MB ? eta -:--:--\n",
      "   ---------------------------------------- 0.0/1.5 MB ? eta -:--:--\n",
      "   ---------------------------------------- 0.0/1.5 MB ? eta -:--:--\n",
      "   ------ --------------------------------- 0.3/1.5 MB ? eta -:--:--\n",
      "   ------ --------------------------------- 0.3/1.5 MB ? eta -:--:--\n",
      "   ------ --------------------------------- 0.3/1.5 MB ? eta -:--:--\n",
      "   ------------- -------------------------- 0.5/1.5 MB 343.4 kB/s eta 0:00:03\n",
      "   ------------- -------------------------- 0.5/1.5 MB 343.4 kB/s eta 0:00:03\n",
      "   ------------- -------------------------- 0.5/1.5 MB 343.4 kB/s eta 0:00:03\n",
      "   -------------------- ------------------- 0.8/1.5 MB 363.5 kB/s eta 0:00:02\n",
      "   -------------------- ------------------- 0.8/1.5 MB 363.5 kB/s eta 0:00:02\n",
      "   -------------------- ------------------- 0.8/1.5 MB 363.5 kB/s eta 0:00:02\n",
      "   -------------------- ------------------- 0.8/1.5 MB 363.5 kB/s eta 0:00:02\n",
      "   --------------------------- ------------ 1.0/1.5 MB 371.0 kB/s eta 0:00:02\n",
      "   --------------------------- ------------ 1.0/1.5 MB 371.0 kB/s eta 0:00:02\n",
      "   --------------------------- ------------ 1.0/1.5 MB 371.0 kB/s eta 0:00:02\n",
      "   ---------------------------------- ----- 1.3/1.5 MB 374.6 kB/s eta 0:00:01\n",
      "   ---------------------------------- ----- 1.3/1.5 MB 374.6 kB/s eta 0:00:01\n",
      "   ---------------------------------------- 1.5/1.5 MB 386.1 kB/s eta 0:00:00\n",
      "Downloading regex-2025.7.34-cp313-cp313-win_amd64.whl (275 kB)\n",
      "Downloading click-8.2.1-py3-none-any.whl (102 kB)\n",
      "Downloading joblib-1.5.1-py3-none-any.whl (307 kB)\n",
      "Downloading tqdm-4.67.1-py3-none-any.whl (78 kB)\n",
      "Installing collected packages: tqdm, regex, joblib, click, nltk\n",
      "\n",
      "   ---------------------------------------- 0/5 [tqdm]\n",
      "   ---------------------------------------- 0/5 [tqdm]\n",
      "   ---------------------------------------- 0/5 [tqdm]\n",
      "   ---------------------------------------- 0/5 [tqdm]\n",
      "   ---------------------------------------- 0/5 [tqdm]\n",
      "   -------- ------------------------------- 1/5 [regex]\n",
      "   ---------------- ----------------------- 2/5 [joblib]\n",
      "   ---------------- ----------------------- 2/5 [joblib]\n",
      "   ---------------- ----------------------- 2/5 [joblib]\n",
      "   ---------------- ----------------------- 2/5 [joblib]\n",
      "   ---------------- ----------------------- 2/5 [joblib]\n",
      "   ---------------- ----------------------- 2/5 [joblib]\n",
      "   ---------------- ----------------------- 2/5 [joblib]\n",
      "   ---------------- ----------------------- 2/5 [joblib]\n",
      "   ---------------- ----------------------- 2/5 [joblib]\n",
      "   ------------------------ --------------- 3/5 [click]\n",
      "   ------------------------ --------------- 3/5 [click]\n",
      "   ------------------------ --------------- 3/5 [click]\n",
      "   -------------------------------- ------- 4/5 [nltk]\n",
      "   -------------------------------- ------- 4/5 [nltk]\n",
      "   -------------------------------- ------- 4/5 [nltk]\n",
      "   -------------------------------- ------- 4/5 [nltk]\n",
      "   -------------------------------- ------- 4/5 [nltk]\n",
      "   -------------------------------- ------- 4/5 [nltk]\n",
      "   -------------------------------- ------- 4/5 [nltk]\n",
      "   -------------------------------- ------- 4/5 [nltk]\n",
      "   -------------------------------- ------- 4/5 [nltk]\n",
      "   -------------------------------- ------- 4/5 [nltk]\n",
      "   -------------------------------- ------- 4/5 [nltk]\n",
      "   -------------------------------- ------- 4/5 [nltk]\n",
      "   -------------------------------- ------- 4/5 [nltk]\n",
      "   -------------------------------- ------- 4/5 [nltk]\n",
      "   -------------------------------- ------- 4/5 [nltk]\n",
      "   -------------------------------- ------- 4/5 [nltk]\n",
      "   -------------------------------- ------- 4/5 [nltk]\n",
      "   -------------------------------- ------- 4/5 [nltk]\n",
      "   -------------------------------- ------- 4/5 [nltk]\n",
      "   -------------------------------- ------- 4/5 [nltk]\n",
      "   -------------------------------- ------- 4/5 [nltk]\n",
      "   -------------------------------- ------- 4/5 [nltk]\n",
      "   -------------------------------- ------- 4/5 [nltk]\n",
      "   -------------------------------- ------- 4/5 [nltk]\n",
      "   -------------------------------- ------- 4/5 [nltk]\n",
      "   -------------------------------- ------- 4/5 [nltk]\n",
      "   -------------------------------- ------- 4/5 [nltk]\n",
      "   -------------------------------- ------- 4/5 [nltk]\n",
      "   -------------------------------- ------- 4/5 [nltk]\n",
      "   -------------------------------- ------- 4/5 [nltk]\n",
      "   -------------------------------- ------- 4/5 [nltk]\n",
      "   -------------------------------- ------- 4/5 [nltk]\n",
      "   -------------------------------- ------- 4/5 [nltk]\n",
      "   -------------------------------- ------- 4/5 [nltk]\n",
      "   -------------------------------- ------- 4/5 [nltk]\n",
      "   -------------------------------- ------- 4/5 [nltk]\n",
      "   -------------------------------- ------- 4/5 [nltk]\n",
      "   -------------------------------- ------- 4/5 [nltk]\n",
      "   -------------------------------- ------- 4/5 [nltk]\n",
      "   -------------------------------- ------- 4/5 [nltk]\n",
      "   -------------------------------- ------- 4/5 [nltk]\n",
      "   -------------------------------- ------- 4/5 [nltk]\n",
      "   -------------------------------- ------- 4/5 [nltk]\n",
      "   -------------------------------- ------- 4/5 [nltk]\n",
      "   -------------------------------- ------- 4/5 [nltk]\n",
      "   -------------------------------- ------- 4/5 [nltk]\n",
      "   -------------------------------- ------- 4/5 [nltk]\n",
      "   ---------------------------------------- 5/5 [nltk]\n",
      "\n",
      "Successfully installed click-8.2.1 joblib-1.5.1 nltk-3.9.1 regex-2025.7.34 tqdm-4.67.1\n"
     ]
    },
    {
     "name": "stderr",
     "output_type": "stream",
     "text": [
      "\n",
      "[notice] A new release of pip is available: 25.1.1 -> 25.2\n",
      "[notice] To update, run: python.exe -m pip install --upgrade pip\n"
     ]
    }
   ],
   "source": [
    "! pip install nltk"
   ]
  },
  {
   "cell_type": "code",
   "execution_count": 4,
   "id": "09055111",
   "metadata": {},
   "outputs": [
    {
     "name": "stderr",
     "output_type": "stream",
     "text": [
      "[nltk_data] Downloading package stopwords to\n",
      "[nltk_data]     C:\\Users\\LChovo\\AppData\\Roaming\\nltk_data...\n",
      "[nltk_data]   Unzipping corpora\\stopwords.zip.\n"
     ]
    }
   ],
   "source": [
    "import nltk\n",
    "nltk.download('stopwords')\n",
    "from nltk.corpus import stopwords"
   ]
  },
  {
   "cell_type": "code",
   "execution_count": 7,
   "id": "f1a592b1",
   "metadata": {},
   "outputs": [
    {
     "name": "stdout",
     "output_type": "stream",
     "text": [
      "['a', 'about', 'above', 'after', 'again', 'against', 'ain', 'all', 'am', 'an', 'and', 'any', 'are', 'aren', \"aren't\", 'as', 'at', 'be', 'because', 'been', 'before', 'being', 'below', 'between', 'both', 'but', 'by', 'can', 'couldn', \"couldn't\", 'd', 'did', 'didn', \"didn't\", 'do', 'does', 'doesn', \"doesn't\", 'doing', 'don', \"don't\", 'down', 'during', 'each', 'few', 'for', 'from', 'further', 'had', 'hadn', \"hadn't\", 'has', 'hasn', \"hasn't\", 'have', 'haven', \"haven't\", 'having', 'he', \"he'd\", \"he'll\", 'her', 'here', 'hers', 'herself', \"he's\", 'him', 'himself', 'his', 'how', 'i', \"i'd\", 'if', \"i'll\", \"i'm\", 'in', 'into', 'is', 'isn', \"isn't\", 'it', \"it'd\", \"it'll\", \"it's\", 'its', 'itself', \"i've\", 'just', 'll', 'm', 'ma', 'me', 'mightn', \"mightn't\", 'more', 'most', 'mustn', \"mustn't\", 'my', 'myself', 'needn', \"needn't\", 'no', 'nor', 'not', 'now', 'o', 'of', 'off', 'on', 'once', 'only', 'or', 'other', 'our', 'ours', 'ourselves', 'out', 'over', 'own', 're', 's', 'same', 'shan', \"shan't\", 'she', \"she'd\", \"she'll\", \"she's\", 'should', 'shouldn', \"shouldn't\", \"should've\", 'so', 'some', 'such', 't', 'than', 'that', \"that'll\", 'the', 'their', 'theirs', 'them', 'themselves', 'then', 'there', 'these', 'they', \"they'd\", \"they'll\", \"they're\", \"they've\", 'this', 'those', 'through', 'to', 'too', 'under', 'until', 'up', 've', 'very', 'was', 'wasn', \"wasn't\", 'we', \"we'd\", \"we'll\", \"we're\", 'were', 'weren', \"weren't\", \"we've\", 'what', 'when', 'where', 'which', 'while', 'who', 'whom', 'why', 'will', 'with', 'won', \"won't\", 'wouldn', \"wouldn't\", 'y', 'you', \"you'd\", \"you'll\", 'your', \"you're\", 'yours', 'yourself', 'yourselves', \"you've\"]\n"
     ]
    }
   ],
   "source": [
    "en_stopwords = stopwords.words('english')\n",
    "print (en_stopwords)\n",
    "\n"
   ]
  },
  {
   "cell_type": "code",
   "execution_count": 12,
   "id": "94538aa2",
   "metadata": {},
   "outputs": [
    {
     "ename": "AttributeError",
     "evalue": "'str' object has no attribute 'splits'",
     "output_type": "error",
     "traceback": [
      "\u001b[31m---------------------------------------------------------------------------\u001b[39m",
      "\u001b[31mAttributeError\u001b[39m                            Traceback (most recent call last)",
      "\u001b[36mCell\u001b[39m\u001b[36m \u001b[39m\u001b[32mIn[12]\u001b[39m\u001b[32m, line 2\u001b[39m\n\u001b[32m      1\u001b[39m sentence = \u001b[33m\"\u001b[39m\u001b[33mhi there it was a good day specially  the nature lovers  it was to far to go to the shop and he didn;t walk \u001b[39m\u001b[33m\"\u001b[39m\n\u001b[32m----> \u001b[39m\u001b[32m2\u001b[39m sentence_no_stopwords= \u001b[33m'\u001b[39m\u001b[33m'\u001b[39m .join([word \u001b[38;5;28;01mfor\u001b[39;00m word  \u001b[38;5;129;01min\u001b[39;00m \u001b[43msentence\u001b[49m\u001b[43m.\u001b[49m\u001b[43msplits\u001b[49m() \u001b[38;5;28;01mif\u001b[39;00m word \u001b[38;5;129;01mnot\u001b[39;00m \u001b[38;5;129;01min\u001b[39;00m (en_stopwords)])\n\u001b[32m      3\u001b[39m \u001b[38;5;28mprint\u001b[39m(sentence_no_stopwords)\n",
      "\u001b[31mAttributeError\u001b[39m: 'str' object has no attribute 'splits'"
     ]
    }
   ],
   "source": [
    "sentence = \"hi there it was a good day specially  the nature lovers  it was to far to go to the shop and he didn;t walk \"\n",
    "sentence_no_stopwords= '' .join([word for word  in sentence.splits() if word not in (en_stopwords)])\n",
    "print(sentence_no_stopwords)"
   ]
  },
  {
   "cell_type": "code",
   "execution_count": 18,
   "id": "a40962ae",
   "metadata": {},
   "outputs": [
    {
     "name": "stdout",
     "output_type": "stream",
     "text": [
      "1\n",
      "2\n",
      "3\n",
      "4\n",
      "5\n",
      "6\n",
      "7\n",
      "8\n",
      "9\n",
      "10\n"
     ]
    }
   ],
   "source": [
    "#Print numbers from 1 to 10 using a while loop.\n",
    "i=1\n",
    "while i <11:\n",
    "    print(i)\n",
    "    i+=1"
   ]
  },
  {
   "cell_type": "code",
   "execution_count": 26,
   "id": "d0ea3c6f",
   "metadata": {},
   "outputs": [
    {
     "name": "stdout",
     "output_type": "stream",
     "text": [
      "1\n",
      "3\n",
      "6\n",
      "10\n",
      "15\n",
      "21\n",
      "28\n",
      "36\n",
      "45\n",
      "55\n",
      "66\n",
      "78\n",
      "91\n",
      "105\n",
      "120\n",
      "136\n",
      "153\n",
      "171\n",
      "190\n"
     ]
    }
   ],
   "source": [
    "#Print the sum of the first n natural numbers. (Take n as input)\n",
    "natural=1\n",
    "limit=20\n",
    "total=0\n",
    "while natural<limit:\n",
    "    # print(natural)\n",
    "    total=total+natural\n",
    "    print(total)\n",
    "    natural = natural+1\n"
   ]
  },
  {
   "cell_type": "code",
   "execution_count": 27,
   "id": "7a5807c2",
   "metadata": {},
   "outputs": [
    {
     "name": "stdout",
     "output_type": "stream",
     "text": [
      "helloworld\n"
     ]
    }
   ],
   "source": [
    "sentence=\"helloworld\"\n",
    "print(sentence)"
   ]
  },
  {
   "cell_type": "code",
   "execution_count": 28,
   "id": "84661f34",
   "metadata": {},
   "outputs": [
    {
     "name": "stdout",
     "output_type": "stream",
     "text": [
      "15\n"
     ]
    }
   ],
   "source": [
    "a=5\n",
    "b=10\n",
    "c=a+b\n",
    "print(c)"
   ]
  },
  {
   "cell_type": "code",
   "execution_count": null,
   "id": "b71de265",
   "metadata": {},
   "outputs": [],
   "source": [
    "# Basic usage of input()\n",
    "name = input(\"Enter your name: \")\n",
    "print(f\"Hello, {name}!\")"
   ]
  },
  {
   "cell_type": "code",
   "execution_count": 5,
   "id": "923c764e",
   "metadata": {},
   "outputs": [
    {
     "name": "stdout",
     "output_type": "stream",
     "text": [
      "25\n"
     ]
    }
   ],
   "source": [
    "number=5\n",
    "number=number**2\n",
    "print(number)\n",
    "\n"
   ]
  },
  {
   "cell_type": "code",
   "execution_count": null,
   "id": "5b5428ea",
   "metadata": {},
   "outputs": [
    {
     "name": "stdout",
     "output_type": "stream",
     "text": [
      "82.4\n"
     ]
    },
    {
     "name": "stdout",
     "output_type": "stream",
     "text": [
      "82.4\n"
     ]
    }
   ],
   "source": [
    "c=28\n",
    "f=(c*1.8)+32\n",
    "print(f)"
   ]
  },
  {
   "cell_type": "code",
   "execution_count": null,
   "id": "45b6f5a8",
   "metadata": {},
   "outputs": [],
   "source": []
  },
  {
   "cell_type": "code",
   "execution_count": 3,
   "id": "0a21ffa6",
   "metadata": {},
   "outputs": [
    {
     "name": "stdout",
     "output_type": "stream",
     "text": [
      "Hello, !\n"
     ]
    }
   ],
   "source": [
    "user_input = input(\"Please enter your name: \") \n",
    "print(\"Hello, \" + user_input + \"!\")"
   ]
  },
  {
   "cell_type": "code",
   "execution_count": null,
   "id": "5c38158a",
   "metadata": {},
   "outputs": [
    {
     "name": "stdout",
     "output_type": "stream",
     "text": [
      "enter value\n"
     ]
    }
   ],
   "source": [
    "print(\"enter value\")\n",
    "c=input()\n",
    "print(c)"
   ]
  },
  {
   "cell_type": "code",
   "execution_count": 11,
   "id": "c4d35b12",
   "metadata": {},
   "outputs": [
    {
     "name": "stdout",
     "output_type": "stream",
     "text": [
      "enter both values\n",
      "the total area is  1870.0\n"
     ]
    }
   ],
   "source": [
    "print(\"enter both values\")\n",
    "length = float(input('please enter length'))\n",
    "width = float(input('please enter width'))\n",
    "A = length * width\n",
    "print(\"the total area is \", A)"
   ]
  },
  {
   "cell_type": "code",
   "execution_count": 18,
   "id": "d646afc8",
   "metadata": {},
   "outputs": [
    {
     "name": "stdout",
     "output_type": "stream",
     "text": [
      "please enter a number\n",
      "The number is positive.\n"
     ]
    }
   ],
   "source": [
    "#Check if a number is positive or negative\n",
    "print(\"please enter a number\")\n",
    "number=float(input())\n",
    "if number > 0:\n",
    " print (\"The number is positive.\")\n",
    "else:\n",
    " print(\"the number is negative\")\n",
    "\n",
    "\n"
   ]
  },
  {
   "cell_type": "code",
   "execution_count": 25,
   "id": "dfeac78e",
   "metadata": {},
   "outputs": [
    {
     "name": "stdout",
     "output_type": "stream",
     "text": [
      "the largest number is 1000.0\n"
     ]
    }
   ],
   "source": [
    "num1= float(input(\"enter first number:\"))\n",
    "num2= float(input(\"enter second number:\"))\n",
    "if num1<num2:\n",
    "  print(\"the largest number is\",num2)\n",
    "else:\n",
    "    print(\"the largest number is\",num1)"
   ]
  },
  {
   "cell_type": "code",
   "execution_count": 4,
   "id": "9ba7f141",
   "metadata": {},
   "outputs": [
    {
     "name": "stdout",
     "output_type": "stream",
     "text": [
      "hi\n",
      "hello\n",
      "awais\n"
     ]
    }
   ],
   "source": [
    "print('hi')\n",
    "print('hello')\n",
    "if 1 == 2 :\n",
    "    print('1 is samller')\n",
    "    print(\"talha\")\n",
    "\n",
    "\n",
    "\n",
    "\n",
    "\n",
    "\n",
    "    \n",
    "print('awais')"
   ]
  },
  {
   "cell_type": "code",
   "execution_count": 15,
   "id": "de228653",
   "metadata": {},
   "outputs": [
    {
     "name": "stdout",
     "output_type": "stream",
     "text": [
      "hello mian talha qadir \n",
      "thats a good boy \n"
     ]
    }
   ],
   "source": [
    "name= input(\"enter your name please for better understanding:\")\n",
    "print(f\"hello\",name)\n",
    "input(\"thanks! for letting us know the name we will really appreciate that\")\n",
    "print(f\"thats a good boy \")"
   ]
  },
  {
   "cell_type": "code",
   "execution_count": 34,
   "id": "22365055",
   "metadata": {},
   "outputs": [
    {
     "ename": "IndentationError",
     "evalue": "expected an indented block after 'for' statement on line 2 (4256832993.py, line 3)",
     "output_type": "error",
     "traceback": [
      "  \u001b[36mCell\u001b[39m\u001b[36m \u001b[39m\u001b[32mIn[34]\u001b[39m\u001b[32m, line 3\u001b[39m\n\u001b[31m    \u001b[39m\u001b[31mprint(x)\u001b[39m\n    ^\n\u001b[31mIndentationError\u001b[39m\u001b[31m:\u001b[39m expected an indented block after 'for' statement on line 2\n"
     ]
    }
   ],
   "source": [
    "y = (\"talha\")\n",
    "for i in x:\n",
    "print(x)"
   ]
  },
  {
   "cell_type": "code",
   "execution_count": 35,
   "id": "d0b1b8cc",
   "metadata": {},
   "outputs": [
    {
     "name": "stdout",
     "output_type": "stream",
     "text": [
      "0\n",
      "1\n",
      "2\n",
      "3\n",
      "4\n",
      "5\n",
      "6\n",
      "7\n",
      "8\n",
      "9\n",
      "10\n"
     ]
    }
   ],
   "source": [
    "for i in range(11):\n",
    "    print(i)"
   ]
  },
  {
   "cell_type": "code",
   "execution_count": 38,
   "id": "51dc55b3",
   "metadata": {},
   "outputs": [
    {
     "name": "stdout",
     "output_type": "stream",
     "text": [
      "i like ['banana', 'apple', 'mango']\n",
      "i like ['banana', 'apple', 'mango']\n",
      "i like ['banana', 'apple', 'mango']\n"
     ]
    }
   ],
   "source": [
    "fruits=[\"banana\",\"apple\",\"mango\"]\n",
    "for fruit in fruits:\n",
    "    print(\"i like\",fruits)"
   ]
  },
  {
   "cell_type": "code",
   "execution_count": 19,
   "id": "416c322d",
   "metadata": {},
   "outputs": [
    {
     "name": "stdout",
     "output_type": "stream",
     "text": [
      "b is not equal to  c\n"
     ]
    }
   ],
   "source": [
    "a=100\n",
    "b=200\n",
    "c=100\n",
    "if b>c:\n",
    "  print(\"b is not equal to  c\")\n",
    "elif b==c:\n",
    "  print(\"b is greater than c\")"
   ]
  },
  {
   "cell_type": "code",
   "execution_count": null,
   "id": "9b3ac4fc",
   "metadata": {},
   "outputs": [],
   "source": []
  },
  {
   "cell_type": "code",
   "execution_count": null,
   "id": "66b47187",
   "metadata": {},
   "outputs": [],
   "source": []
  }
 ],
 "metadata": {
  "kernelspec": {
   "display_name": "Python 3",
   "language": "python",
   "name": "python3"
  },
  "language_info": {
   "codemirror_mode": {
    "name": "ipython",
    "version": 3
   },
   "file_extension": ".py",
   "mimetype": "text/x-python",
   "name": "python",
   "nbconvert_exporter": "python",
   "pygments_lexer": "ipython3",
   "version": "3.13.5"
  }
 },
 "nbformat": 4,
 "nbformat_minor": 5
}
